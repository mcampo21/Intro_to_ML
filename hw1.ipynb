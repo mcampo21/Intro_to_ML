{
 "cells": [
  {
   "cell_type": "code",
   "execution_count": 1,
   "id": "527c7a7f-9278-4100-a3d9-2bd78dfb0a31",
   "metadata": {},
   "outputs": [],
   "source": [
    "# Intro to Machine Learning\n",
    "# Homework 1\n",
    "# Michael Campo ID: 801147955"
   ]
  },
  {
   "cell_type": "code",
   "execution_count": 2,
   "id": "5e2ea697-622d-4c8e-9fbe-85490611e571",
   "metadata": {},
   "outputs": [],
   "source": [
    "import numpy as np\n",
    "import pandas as pd\n",
    "\n",
    "# Data Visualisation\n",
    "import matplotlib.pyplot as plt\n",
    "import seaborn as sns\n",
    "\n",
    "from IPython.core.interactiveshell import InteractiveShell\n",
    "InteractiveShell.ast_node_interactivity = \"all\""
   ]
  },
  {
   "cell_type": "code",
   "execution_count": 3,
   "id": "66e5a425-348b-4c29-9bdb-d1ee95f4c897",
   "metadata": {},
   "outputs": [
    {
     "data": {
      "text/html": [
       "<div>\n",
       "<style scoped>\n",
       "    .dataframe tbody tr th:only-of-type {\n",
       "        vertical-align: middle;\n",
       "    }\n",
       "\n",
       "    .dataframe tbody tr th {\n",
       "        vertical-align: top;\n",
       "    }\n",
       "\n",
       "    .dataframe thead th {\n",
       "        text-align: right;\n",
       "    }\n",
       "</style>\n",
       "<table border=\"1\" class=\"dataframe\">\n",
       "  <thead>\n",
       "    <tr style=\"text-align: right;\">\n",
       "      <th></th>\n",
       "      <th>price</th>\n",
       "      <th>area</th>\n",
       "      <th>bedrooms</th>\n",
       "      <th>bathrooms</th>\n",
       "      <th>stories</th>\n",
       "      <th>mainroad</th>\n",
       "      <th>guestroom</th>\n",
       "      <th>basement</th>\n",
       "      <th>hotwaterheating</th>\n",
       "      <th>airconditioning</th>\n",
       "      <th>parking</th>\n",
       "      <th>prefarea</th>\n",
       "      <th>furnishingstatus</th>\n",
       "    </tr>\n",
       "  </thead>\n",
       "  <tbody>\n",
       "    <tr>\n",
       "      <th>0</th>\n",
       "      <td>13300000</td>\n",
       "      <td>7420</td>\n",
       "      <td>4</td>\n",
       "      <td>2</td>\n",
       "      <td>3</td>\n",
       "      <td>yes</td>\n",
       "      <td>no</td>\n",
       "      <td>no</td>\n",
       "      <td>no</td>\n",
       "      <td>yes</td>\n",
       "      <td>2</td>\n",
       "      <td>yes</td>\n",
       "      <td>furnished</td>\n",
       "    </tr>\n",
       "    <tr>\n",
       "      <th>1</th>\n",
       "      <td>12250000</td>\n",
       "      <td>8960</td>\n",
       "      <td>4</td>\n",
       "      <td>4</td>\n",
       "      <td>4</td>\n",
       "      <td>yes</td>\n",
       "      <td>no</td>\n",
       "      <td>no</td>\n",
       "      <td>no</td>\n",
       "      <td>yes</td>\n",
       "      <td>3</td>\n",
       "      <td>no</td>\n",
       "      <td>furnished</td>\n",
       "    </tr>\n",
       "    <tr>\n",
       "      <th>2</th>\n",
       "      <td>12250000</td>\n",
       "      <td>9960</td>\n",
       "      <td>3</td>\n",
       "      <td>2</td>\n",
       "      <td>2</td>\n",
       "      <td>yes</td>\n",
       "      <td>no</td>\n",
       "      <td>yes</td>\n",
       "      <td>no</td>\n",
       "      <td>no</td>\n",
       "      <td>2</td>\n",
       "      <td>yes</td>\n",
       "      <td>semi-furnished</td>\n",
       "    </tr>\n",
       "    <tr>\n",
       "      <th>3</th>\n",
       "      <td>12215000</td>\n",
       "      <td>7500</td>\n",
       "      <td>4</td>\n",
       "      <td>2</td>\n",
       "      <td>2</td>\n",
       "      <td>yes</td>\n",
       "      <td>no</td>\n",
       "      <td>yes</td>\n",
       "      <td>no</td>\n",
       "      <td>yes</td>\n",
       "      <td>3</td>\n",
       "      <td>yes</td>\n",
       "      <td>furnished</td>\n",
       "    </tr>\n",
       "    <tr>\n",
       "      <th>4</th>\n",
       "      <td>11410000</td>\n",
       "      <td>7420</td>\n",
       "      <td>4</td>\n",
       "      <td>1</td>\n",
       "      <td>2</td>\n",
       "      <td>yes</td>\n",
       "      <td>yes</td>\n",
       "      <td>yes</td>\n",
       "      <td>no</td>\n",
       "      <td>yes</td>\n",
       "      <td>2</td>\n",
       "      <td>no</td>\n",
       "      <td>furnished</td>\n",
       "    </tr>\n",
       "  </tbody>\n",
       "</table>\n",
       "</div>"
      ],
      "text/plain": [
       "      price  area  bedrooms  bathrooms  stories mainroad guestroom basement  \\\n",
       "0  13300000  7420         4          2        3      yes        no       no   \n",
       "1  12250000  8960         4          4        4      yes        no       no   \n",
       "2  12250000  9960         3          2        2      yes        no      yes   \n",
       "3  12215000  7500         4          2        2      yes        no      yes   \n",
       "4  11410000  7420         4          1        2      yes       yes      yes   \n",
       "\n",
       "  hotwaterheating airconditioning  parking prefarea furnishingstatus  \n",
       "0              no             yes        2      yes        furnished  \n",
       "1              no             yes        3       no        furnished  \n",
       "2              no              no        2      yes   semi-furnished  \n",
       "3              no             yes        3      yes        furnished  \n",
       "4              no             yes        2       no        furnished  "
      ]
     },
     "execution_count": 3,
     "metadata": {},
     "output_type": "execute_result"
    },
    {
     "data": {
      "text/plain": [
       "545"
      ]
     },
     "execution_count": 3,
     "metadata": {},
     "output_type": "execute_result"
    },
    {
     "data": {
      "text/plain": [
       "(545, 13)"
      ]
     },
     "execution_count": 3,
     "metadata": {},
     "output_type": "execute_result"
    }
   ],
   "source": [
    "housing = pd.read_csv('Housing.csv')\n",
    "housing.head()\n",
    "m = len(housing)\n",
    "m\n",
    "housing.shape # row x column"
   ]
  },
  {
   "cell_type": "code",
   "execution_count": 4,
   "id": "9bdcfd8c-3c1b-42c4-84c4-d75acedabcab",
   "metadata": {},
   "outputs": [
    {
     "name": "stdout",
     "output_type": "stream",
     "text": [
      "<class 'pandas.core.frame.DataFrame'>\n",
      "RangeIndex: 545 entries, 0 to 544\n",
      "Data columns (total 13 columns):\n",
      " #   Column            Non-Null Count  Dtype \n",
      "---  ------            --------------  ----- \n",
      " 0   price             545 non-null    int64 \n",
      " 1   area              545 non-null    int64 \n",
      " 2   bedrooms          545 non-null    int64 \n",
      " 3   bathrooms         545 non-null    int64 \n",
      " 4   stories           545 non-null    int64 \n",
      " 5   mainroad          545 non-null    object\n",
      " 6   guestroom         545 non-null    object\n",
      " 7   basement          545 non-null    object\n",
      " 8   hotwaterheating   545 non-null    object\n",
      " 9   airconditioning   545 non-null    object\n",
      " 10  parking           545 non-null    int64 \n",
      " 11  prefarea          545 non-null    object\n",
      " 12  furnishingstatus  545 non-null    object\n",
      "dtypes: int64(6), object(7)\n",
      "memory usage: 55.5+ KB\n"
     ]
    },
    {
     "data": {
      "text/html": [
       "<div>\n",
       "<style scoped>\n",
       "    .dataframe tbody tr th:only-of-type {\n",
       "        vertical-align: middle;\n",
       "    }\n",
       "\n",
       "    .dataframe tbody tr th {\n",
       "        vertical-align: top;\n",
       "    }\n",
       "\n",
       "    .dataframe thead th {\n",
       "        text-align: right;\n",
       "    }\n",
       "</style>\n",
       "<table border=\"1\" class=\"dataframe\">\n",
       "  <thead>\n",
       "    <tr style=\"text-align: right;\">\n",
       "      <th></th>\n",
       "      <th>price</th>\n",
       "      <th>area</th>\n",
       "      <th>bedrooms</th>\n",
       "      <th>bathrooms</th>\n",
       "      <th>stories</th>\n",
       "      <th>parking</th>\n",
       "    </tr>\n",
       "  </thead>\n",
       "  <tbody>\n",
       "    <tr>\n",
       "      <th>count</th>\n",
       "      <td>5.450000e+02</td>\n",
       "      <td>545.000000</td>\n",
       "      <td>545.000000</td>\n",
       "      <td>545.000000</td>\n",
       "      <td>545.000000</td>\n",
       "      <td>545.000000</td>\n",
       "    </tr>\n",
       "    <tr>\n",
       "      <th>mean</th>\n",
       "      <td>4.766729e+06</td>\n",
       "      <td>5150.541284</td>\n",
       "      <td>2.965138</td>\n",
       "      <td>1.286239</td>\n",
       "      <td>1.805505</td>\n",
       "      <td>0.693578</td>\n",
       "    </tr>\n",
       "    <tr>\n",
       "      <th>std</th>\n",
       "      <td>1.870440e+06</td>\n",
       "      <td>2170.141023</td>\n",
       "      <td>0.738064</td>\n",
       "      <td>0.502470</td>\n",
       "      <td>0.867492</td>\n",
       "      <td>0.861586</td>\n",
       "    </tr>\n",
       "    <tr>\n",
       "      <th>min</th>\n",
       "      <td>1.750000e+06</td>\n",
       "      <td>1650.000000</td>\n",
       "      <td>1.000000</td>\n",
       "      <td>1.000000</td>\n",
       "      <td>1.000000</td>\n",
       "      <td>0.000000</td>\n",
       "    </tr>\n",
       "    <tr>\n",
       "      <th>25%</th>\n",
       "      <td>3.430000e+06</td>\n",
       "      <td>3600.000000</td>\n",
       "      <td>2.000000</td>\n",
       "      <td>1.000000</td>\n",
       "      <td>1.000000</td>\n",
       "      <td>0.000000</td>\n",
       "    </tr>\n",
       "    <tr>\n",
       "      <th>50%</th>\n",
       "      <td>4.340000e+06</td>\n",
       "      <td>4600.000000</td>\n",
       "      <td>3.000000</td>\n",
       "      <td>1.000000</td>\n",
       "      <td>2.000000</td>\n",
       "      <td>0.000000</td>\n",
       "    </tr>\n",
       "    <tr>\n",
       "      <th>75%</th>\n",
       "      <td>5.740000e+06</td>\n",
       "      <td>6360.000000</td>\n",
       "      <td>3.000000</td>\n",
       "      <td>2.000000</td>\n",
       "      <td>2.000000</td>\n",
       "      <td>1.000000</td>\n",
       "    </tr>\n",
       "    <tr>\n",
       "      <th>max</th>\n",
       "      <td>1.330000e+07</td>\n",
       "      <td>16200.000000</td>\n",
       "      <td>6.000000</td>\n",
       "      <td>4.000000</td>\n",
       "      <td>4.000000</td>\n",
       "      <td>3.000000</td>\n",
       "    </tr>\n",
       "  </tbody>\n",
       "</table>\n",
       "</div>"
      ],
      "text/plain": [
       "              price          area    bedrooms   bathrooms     stories  \\\n",
       "count  5.450000e+02    545.000000  545.000000  545.000000  545.000000   \n",
       "mean   4.766729e+06   5150.541284    2.965138    1.286239    1.805505   \n",
       "std    1.870440e+06   2170.141023    0.738064    0.502470    0.867492   \n",
       "min    1.750000e+06   1650.000000    1.000000    1.000000    1.000000   \n",
       "25%    3.430000e+06   3600.000000    2.000000    1.000000    1.000000   \n",
       "50%    4.340000e+06   4600.000000    3.000000    1.000000    2.000000   \n",
       "75%    5.740000e+06   6360.000000    3.000000    2.000000    2.000000   \n",
       "max    1.330000e+07  16200.000000    6.000000    4.000000    4.000000   \n",
       "\n",
       "          parking  \n",
       "count  545.000000  \n",
       "mean     0.693578  \n",
       "std      0.861586  \n",
       "min      0.000000  \n",
       "25%      0.000000  \n",
       "50%      0.000000  \n",
       "75%      1.000000  \n",
       "max      3.000000  "
      ]
     },
     "execution_count": 4,
     "metadata": {},
     "output_type": "execute_result"
    }
   ],
   "source": [
    "housing.info()\n",
    "housing.describe()"
   ]
  },
  {
   "cell_type": "markdown",
   "id": "480d3c18-7fdd-49ef-b7ed-315a5e289ad0",
   "metadata": {},
   "source": [
    "# Functions"
   ]
  },
  {
   "cell_type": "code",
   "execution_count": 5,
   "id": "3049f312-e9ee-4568-9259-b4346f8834b9",
   "metadata": {},
   "outputs": [],
   "source": [
    "def cost_function(x, y, theta):\n",
    "    \n",
    "    prediction = x.dot(theta)\n",
    "    error = np.subtract(prediction, y)\n",
    "    sqrError = np.square(error)\n",
    "    J = 1/(2*m) * np.sum(sqrError)\n",
    "    \n",
    "    return J"
   ]
  },
  {
   "cell_type": "code",
   "execution_count": 6,
   "id": "1c1f42b7-5aab-475a-bfcb-f51b10923698",
   "metadata": {},
   "outputs": [],
   "source": [
    "def gradient_descent(x, y, theta, alpha, iterations):\n",
    "    \n",
    "    cost_history = np.zeros(iterations)\n",
    "    \n",
    "    for i in range(iterations):\n",
    "        prediction = x.dot(theta)\n",
    "        error = np.subtract(prediction, y)\n",
    "        G = (1/m) * x.transpose().dot(error);\n",
    "        theta = theta - (G * alpha);\n",
    "        \n",
    "        cost_history[i] = cost_function(x, y, theta)\n",
    "\n",
    "    return theta, cost_history"
   ]
  },
  {
   "cell_type": "markdown",
   "id": "adfb0654-4c70-4479-801f-7395fdf99559",
   "metadata": {},
   "source": [
    "# Problem 1"
   ]
  },
  {
   "cell_type": "code",
   "execution_count": 7,
   "id": "d92bebfd-7ee6-4f04-9d00-8ea83bc54701",
   "metadata": {},
   "outputs": [
    {
     "data": {
      "text/html": [
       "<div>\n",
       "<style scoped>\n",
       "    .dataframe tbody tr th:only-of-type {\n",
       "        vertical-align: middle;\n",
       "    }\n",
       "\n",
       "    .dataframe tbody tr th {\n",
       "        vertical-align: top;\n",
       "    }\n",
       "\n",
       "    .dataframe thead th {\n",
       "        text-align: right;\n",
       "    }\n",
       "</style>\n",
       "<table border=\"1\" class=\"dataframe\">\n",
       "  <thead>\n",
       "    <tr style=\"text-align: right;\">\n",
       "      <th></th>\n",
       "      <th>price</th>\n",
       "      <th>area</th>\n",
       "      <th>bedrooms</th>\n",
       "      <th>bathrooms</th>\n",
       "      <th>stories</th>\n",
       "      <th>mainroad</th>\n",
       "      <th>guestroom</th>\n",
       "      <th>basement</th>\n",
       "      <th>hotwaterheating</th>\n",
       "      <th>airconditioning</th>\n",
       "      <th>parking</th>\n",
       "      <th>prefarea</th>\n",
       "      <th>furnishingstatus</th>\n",
       "    </tr>\n",
       "  </thead>\n",
       "  <tbody>\n",
       "    <tr>\n",
       "      <th>0</th>\n",
       "      <td>13300000</td>\n",
       "      <td>7420</td>\n",
       "      <td>4</td>\n",
       "      <td>2</td>\n",
       "      <td>3</td>\n",
       "      <td>1</td>\n",
       "      <td>0</td>\n",
       "      <td>0</td>\n",
       "      <td>0</td>\n",
       "      <td>1</td>\n",
       "      <td>2</td>\n",
       "      <td>1</td>\n",
       "      <td>NaN</td>\n",
       "    </tr>\n",
       "    <tr>\n",
       "      <th>1</th>\n",
       "      <td>12250000</td>\n",
       "      <td>8960</td>\n",
       "      <td>4</td>\n",
       "      <td>4</td>\n",
       "      <td>4</td>\n",
       "      <td>1</td>\n",
       "      <td>0</td>\n",
       "      <td>0</td>\n",
       "      <td>0</td>\n",
       "      <td>1</td>\n",
       "      <td>3</td>\n",
       "      <td>0</td>\n",
       "      <td>NaN</td>\n",
       "    </tr>\n",
       "    <tr>\n",
       "      <th>2</th>\n",
       "      <td>12250000</td>\n",
       "      <td>9960</td>\n",
       "      <td>3</td>\n",
       "      <td>2</td>\n",
       "      <td>2</td>\n",
       "      <td>1</td>\n",
       "      <td>0</td>\n",
       "      <td>1</td>\n",
       "      <td>0</td>\n",
       "      <td>0</td>\n",
       "      <td>2</td>\n",
       "      <td>1</td>\n",
       "      <td>NaN</td>\n",
       "    </tr>\n",
       "    <tr>\n",
       "      <th>3</th>\n",
       "      <td>12215000</td>\n",
       "      <td>7500</td>\n",
       "      <td>4</td>\n",
       "      <td>2</td>\n",
       "      <td>2</td>\n",
       "      <td>1</td>\n",
       "      <td>0</td>\n",
       "      <td>1</td>\n",
       "      <td>0</td>\n",
       "      <td>1</td>\n",
       "      <td>3</td>\n",
       "      <td>1</td>\n",
       "      <td>NaN</td>\n",
       "    </tr>\n",
       "    <tr>\n",
       "      <th>4</th>\n",
       "      <td>11410000</td>\n",
       "      <td>7420</td>\n",
       "      <td>4</td>\n",
       "      <td>1</td>\n",
       "      <td>2</td>\n",
       "      <td>1</td>\n",
       "      <td>1</td>\n",
       "      <td>1</td>\n",
       "      <td>0</td>\n",
       "      <td>1</td>\n",
       "      <td>2</td>\n",
       "      <td>0</td>\n",
       "      <td>NaN</td>\n",
       "    </tr>\n",
       "  </tbody>\n",
       "</table>\n",
       "</div>"
      ],
      "text/plain": [
       "      price  area  bedrooms  bathrooms  stories  mainroad  guestroom  \\\n",
       "0  13300000  7420         4          2        3         1          0   \n",
       "1  12250000  8960         4          4        4         1          0   \n",
       "2  12250000  9960         3          2        2         1          0   \n",
       "3  12215000  7500         4          2        2         1          0   \n",
       "4  11410000  7420         4          1        2         1          1   \n",
       "\n",
       "   basement  hotwaterheating  airconditioning  parking  prefarea  \\\n",
       "0         0                0                1        2         1   \n",
       "1         0                0                1        3         0   \n",
       "2         1                0                0        2         1   \n",
       "3         1                0                1        3         1   \n",
       "4         1                0                1        2         0   \n",
       "\n",
       "   furnishingstatus  \n",
       "0               NaN  \n",
       "1               NaN  \n",
       "2               NaN  \n",
       "3               NaN  \n",
       "4               NaN  "
      ]
     },
     "execution_count": 7,
     "metadata": {},
     "output_type": "execute_result"
    }
   ],
   "source": [
    "# Convert the data columns that have string values into numerical values\n",
    "\n",
    "varlist = ['mainroad', 'guestroom', 'basement', 'hotwaterheating', 'airconditioning', 'prefarea', 'furnishingstatus']\n",
    "\n",
    "# Define the map function\n",
    "def binary_map(x):\n",
    "    return x.map({'yes':1, 'no':0})\n",
    "\n",
    "housing[varlist] = housing[varlist].apply(binary_map)\n",
    "\n",
    "# Check the dataframe\n",
    "housing.head()"
   ]
  },
  {
   "cell_type": "code",
   "execution_count": 8,
   "id": "6b34e84c-57ac-4a94-9b83-badde5183ea4",
   "metadata": {},
   "outputs": [
    {
     "data": {
      "text/plain": [
       "(381, 13)"
      ]
     },
     "execution_count": 8,
     "metadata": {},
     "output_type": "execute_result"
    },
    {
     "data": {
      "text/plain": [
       "(164, 13)"
      ]
     },
     "execution_count": 8,
     "metadata": {},
     "output_type": "execute_result"
    }
   ],
   "source": [
    "# Split the Data into Training and Testing Sets\n",
    "# 70% training, 30% tesing\n",
    "from sklearn.model_selection import train_test_split\n",
    "\n",
    "np.random.seed(0)\n",
    "df_train, df_test = train_test_split(housing, train_size = 0.7, test_size = 0.3, random_state = 0 )\n",
    "df_train.shape\n",
    "df_test.shape"
   ]
  },
  {
   "cell_type": "markdown",
   "id": "61a1bff3-68bc-4cc0-b935-4ceeca71546f",
   "metadata": {},
   "source": [
    "# Problem 1a)"
   ]
  },
  {
   "cell_type": "code",
   "execution_count": 9,
   "id": "d0a65d87-3d0b-4cf8-964c-3feed63c8b09",
   "metadata": {},
   "outputs": [
    {
     "data": {
      "text/html": [
       "<div>\n",
       "<style scoped>\n",
       "    .dataframe tbody tr th:only-of-type {\n",
       "        vertical-align: middle;\n",
       "    }\n",
       "\n",
       "    .dataframe tbody tr th {\n",
       "        vertical-align: top;\n",
       "    }\n",
       "\n",
       "    .dataframe thead th {\n",
       "        text-align: right;\n",
       "    }\n",
       "</style>\n",
       "<table border=\"1\" class=\"dataframe\">\n",
       "  <thead>\n",
       "    <tr style=\"text-align: right;\">\n",
       "      <th></th>\n",
       "      <th>area</th>\n",
       "      <th>bedrooms</th>\n",
       "      <th>bathrooms</th>\n",
       "      <th>stories</th>\n",
       "      <th>parking</th>\n",
       "    </tr>\n",
       "  </thead>\n",
       "  <tbody>\n",
       "    <tr>\n",
       "      <th>454</th>\n",
       "      <td>4500</td>\n",
       "      <td>3</td>\n",
       "      <td>1</td>\n",
       "      <td>2</td>\n",
       "      <td>0</td>\n",
       "    </tr>\n",
       "    <tr>\n",
       "      <th>392</th>\n",
       "      <td>3990</td>\n",
       "      <td>3</td>\n",
       "      <td>1</td>\n",
       "      <td>2</td>\n",
       "      <td>0</td>\n",
       "    </tr>\n",
       "    <tr>\n",
       "      <th>231</th>\n",
       "      <td>4320</td>\n",
       "      <td>3</td>\n",
       "      <td>1</td>\n",
       "      <td>1</td>\n",
       "      <td>0</td>\n",
       "    </tr>\n",
       "    <tr>\n",
       "      <th>271</th>\n",
       "      <td>1905</td>\n",
       "      <td>5</td>\n",
       "      <td>1</td>\n",
       "      <td>2</td>\n",
       "      <td>0</td>\n",
       "    </tr>\n",
       "    <tr>\n",
       "      <th>250</th>\n",
       "      <td>3510</td>\n",
       "      <td>3</td>\n",
       "      <td>1</td>\n",
       "      <td>3</td>\n",
       "      <td>0</td>\n",
       "    </tr>\n",
       "  </tbody>\n",
       "</table>\n",
       "</div>"
      ],
      "text/plain": [
       "     area  bedrooms  bathrooms  stories  parking\n",
       "454  4500         3          1        2        0\n",
       "392  3990         3          1        2        0\n",
       "231  4320         3          1        1        0\n",
       "271  1905         5          1        2        0\n",
       "250  3510         3          1        3        0"
      ]
     },
     "execution_count": 9,
     "metadata": {},
     "output_type": "execute_result"
    },
    {
     "data": {
      "text/plain": [
       "(381, 5)"
      ]
     },
     "execution_count": 9,
     "metadata": {},
     "output_type": "execute_result"
    }
   ],
   "source": [
    "num_vars = ['area', 'bedrooms', 'bathrooms', 'stories', 'parking']\n",
    "y_p1_train = df_train['price']\n",
    "y_p1_test = df_test['price']\n",
    "df_train_p1a = df_train[num_vars]\n",
    "df_test_p1a = df_test[num_vars]\n",
    "df_train_p1a.head()\n",
    "df_train_p1a.shape"
   ]
  },
  {
   "cell_type": "code",
   "execution_count": 15,
   "id": "b5435908-7dd3-4ca7-a3c4-14463ae390eb",
   "metadata": {},
   "outputs": [
    {
     "data": {
      "text/plain": [
       "(381, 6)"
      ]
     },
     "execution_count": 15,
     "metadata": {},
     "output_type": "execute_result"
    }
   ],
   "source": [
    "# Reshape the array\n",
    "tr = len(df_train_p1a)\n",
    "ts = len(df_test_p1a)\n",
    "tr_one_p1a = np.ones((tr,1))\n",
    "ts_one_p1a = np.ones((ts,1))\n",
    "train_p1a = np.hstack((tr_one_p1a, df_train_p1a))\n",
    "test_p1a = np.hstack((ts_one_p1a, df_test_p1a))\n",
    "train_p1a.shape"
   ]
  },
  {
   "cell_type": "code",
   "execution_count": 17,
   "id": "5a6890d9-ee44-4c0a-a7e0-8fba035e1409",
   "metadata": {},
   "outputs": [
    {
     "name": "stdout",
     "output_type": "stream",
     "text": [
      "Final value of train theta = [-2.60972710e+57 -1.52258923e+61 -7.77757228e+57 -3.40788314e+57\n",
      " -4.82652326e+57 -2.19045040e+57]\n",
      "Train cost history =  3.425473407839426e+129\n",
      "Final value of test theta = [-1.29085530e+79 -8.47695050e+82 -3.97943359e+79 -1.77387425e+79\n",
      " -2.33247258e+79 -1.00970049e+79]\n",
      "Test cost history =  1.2620236862609164e+173\n"
     ]
    }
   ],
   "source": [
    "# Gradient Descent for p1a training data\n",
    "theta = np.zeros(6)\n",
    "iterations1a = 200;\n",
    "alpha = 0.0000001;\n",
    "m = len(train_p1a)\n",
    "theta_p1a_train, cost_history1a_train = gradient_descent(train_p1a, y_p1_train, theta, alpha, iterations1a)\n",
    "m = len(test_p1a)\n",
    "theta_p1a_test, cost_history1a_test = gradient_descent(test_p1a, y_p1_test, theta, alpha, iterations1a)\n",
    "\n",
    "print('Final value of train theta =', theta_p1a_train)\n",
    "print('Train cost history = ', cost_history1a_train[iterations1a -1])\n",
    "print('Final value of test theta =', theta_p1a_test)\n",
    "print('Test cost history = ', cost_history1a_test[iterations1a -1])"
   ]
  },
  {
   "cell_type": "code",
   "execution_count": 18,
   "id": "db1de4c8-360e-438b-b4fd-96ee1ce40f65",
   "metadata": {},
   "outputs": [
    {
     "data": {
      "image/png": "[encoded data removed]",
      "text/plain": [
       "<Figure size 432x288 with 1 Axes>"
      ]
     },
     "metadata": {
      "needs_background": "light"
     },
     "output_type": "display_data"
    }
   ],
   "source": [
    "# Plot gradient descent of p1a\n",
    "plt.plot(range(1,iterations1a+1), cost_history1a_train, color='red');\n",
    "plt.plot(range(1,iterations1a+1), cost_history1a_test, color='blue');\n",
    "plt.rcParams[\"figure.figsize\"] = (10,6)\n",
    "plt.grid()\n",
    "plt.xlabel('Number of iterations');\n",
    "plt.ylabel('Cost (J)');\n",
    "plt.title('Convergence of gradient descent of Problem 1a');"
   ]
  },
  {
   "cell_type": "markdown",
   "id": "e3d8aafb-7728-4a37-b857-b64e8af5781a",
   "metadata": {},
   "source": [
    "# Problem 1b)"
   ]
  },
  {
   "cell_type": "code",
   "execution_count": 19,
   "id": "3ac2821d-2ef8-4811-aaa5-352757305426",
   "metadata": {},
   "outputs": [
    {
     "data": {
      "text/html": [
       "<div>\n",
       "<style scoped>\n",
       "    .dataframe tbody tr th:only-of-type {\n",
       "        vertical-align: middle;\n",
       "    }\n",
       "\n",
       "    .dataframe tbody tr th {\n",
       "        vertical-align: top;\n",
       "    }\n",
       "\n",
       "    .dataframe thead th {\n",
       "        text-align: right;\n",
       "    }\n",
       "</style>\n",
       "<table border=\"1\" class=\"dataframe\">\n",
       "  <thead>\n",
       "    <tr style=\"text-align: right;\">\n",
       "      <th></th>\n",
       "      <th>area</th>\n",
       "      <th>bedrooms</th>\n",
       "      <th>bathrooms</th>\n",
       "      <th>stories</th>\n",
       "      <th>mainroad</th>\n",
       "      <th>guestroom</th>\n",
       "      <th>basement</th>\n",
       "      <th>hotwaterheating</th>\n",
       "      <th>airconditioning</th>\n",
       "      <th>parking</th>\n",
       "      <th>prefarea</th>\n",
       "    </tr>\n",
       "  </thead>\n",
       "  <tbody>\n",
       "    <tr>\n",
       "      <th>454</th>\n",
       "      <td>4500</td>\n",
       "      <td>3</td>\n",
       "      <td>1</td>\n",
       "      <td>2</td>\n",
       "      <td>1</td>\n",
       "      <td>0</td>\n",
       "      <td>0</td>\n",
       "      <td>0</td>\n",
       "      <td>1</td>\n",
       "      <td>0</td>\n",
       "      <td>0</td>\n",
       "    </tr>\n",
       "    <tr>\n",
       "      <th>392</th>\n",
       "      <td>3990</td>\n",
       "      <td>3</td>\n",
       "      <td>1</td>\n",
       "      <td>2</td>\n",
       "      <td>1</td>\n",
       "      <td>0</td>\n",
       "      <td>0</td>\n",
       "      <td>0</td>\n",
       "      <td>0</td>\n",
       "      <td>0</td>\n",
       "      <td>0</td>\n",
       "    </tr>\n",
       "    <tr>\n",
       "      <th>231</th>\n",
       "      <td>4320</td>\n",
       "      <td>3</td>\n",
       "      <td>1</td>\n",
       "      <td>1</td>\n",
       "      <td>1</td>\n",
       "      <td>0</td>\n",
       "      <td>0</td>\n",
       "      <td>0</td>\n",
       "      <td>0</td>\n",
       "      <td>0</td>\n",
       "      <td>1</td>\n",
       "    </tr>\n",
       "    <tr>\n",
       "      <th>271</th>\n",
       "      <td>1905</td>\n",
       "      <td>5</td>\n",
       "      <td>1</td>\n",
       "      <td>2</td>\n",
       "      <td>0</td>\n",
       "      <td>0</td>\n",
       "      <td>1</td>\n",
       "      <td>0</td>\n",
       "      <td>0</td>\n",
       "      <td>0</td>\n",
       "      <td>0</td>\n",
       "    </tr>\n",
       "    <tr>\n",
       "      <th>250</th>\n",
       "      <td>3510</td>\n",
       "      <td>3</td>\n",
       "      <td>1</td>\n",
       "      <td>3</td>\n",
       "      <td>1</td>\n",
       "      <td>0</td>\n",
       "      <td>0</td>\n",
       "      <td>0</td>\n",
       "      <td>0</td>\n",
       "      <td>0</td>\n",
       "      <td>0</td>\n",
       "    </tr>\n",
       "  </tbody>\n",
       "</table>\n",
       "</div>"
      ],
      "text/plain": [
       "     area  bedrooms  bathrooms  stories  mainroad  guestroom  basement  \\\n",
       "454  4500         3          1        2         1          0         0   \n",
       "392  3990         3          1        2         1          0         0   \n",
       "231  4320         3          1        1         1          0         0   \n",
       "271  1905         5          1        2         0          0         1   \n",
       "250  3510         3          1        3         1          0         0   \n",
       "\n",
       "     hotwaterheating  airconditioning  parking  prefarea  \n",
       "454                0                1        0         0  \n",
       "392                0                0        0         0  \n",
       "231                0                0        0         1  \n",
       "271                0                0        0         0  \n",
       "250                0                0        0         0  "
      ]
     },
     "execution_count": 19,
     "metadata": {},
     "output_type": "execute_result"
    }
   ],
   "source": [
    "# Obtain the input variables\n",
    "num_varsb = ['area', 'bedrooms', 'bathrooms', 'stories', 'mainroad', 'guestroom', 'basement', 'hotwaterheating', 'airconditioning', 'parking', 'prefarea']\n",
    "df_train_p1b = df_train[num_varsb]\n",
    "df_test_p1b = df_test[num_varsb]\n",
    "df_train_p1b.head()"
   ]
  },
  {
   "cell_type": "code",
   "execution_count": 20,
   "id": "e410f211-52ec-4530-a259-3d53d35ecd21",
   "metadata": {},
   "outputs": [
    {
     "data": {
      "text/plain": [
       "(381, 12)"
      ]
     },
     "execution_count": 20,
     "metadata": {},
     "output_type": "execute_result"
    }
   ],
   "source": [
    "# Reshape the array\n",
    "trb = len(df_train_p1b)\n",
    "tsb = len(df_test_p1b)\n",
    "tr_one_p1b = np.ones((trb,1))\n",
    "ts_one_p1b = np.ones((tsb,1))\n",
    "train_p1b = np.hstack((tr_one_p1b, df_train_p1b))\n",
    "test_p1b = np.hstack((ts_one_p1b, df_test_p1b))\n",
    "train_p1b.shape"
   ]
  },
  {
   "cell_type": "code",
   "execution_count": 21,
   "id": "cb7eb03a-8441-40b1-8dd1-2a67f6eec49c",
   "metadata": {},
   "outputs": [
    {
     "name": "stdout",
     "output_type": "stream",
     "text": [
      "Final value of train theta = [-1.98508619e+28 -1.15815590e+32 -5.91600222e+28 -2.59220275e+28\n",
      " -3.67128987e+28 -1.79407139e+28 -3.89065334e+27 -6.83201907e+27\n",
      " -8.39060387e+26 -7.41117642e+27 -1.66616381e+28 -5.77362453e+27]\n",
      "Train cost history =  1.9819339323034193e+71\n",
      "Final value of test theta = [-1.98508619e+28 -1.15815590e+32 -5.91600222e+28 -2.59220275e+28\n",
      " -3.67128987e+28 -1.79407139e+28 -3.89065334e+27 -6.83201907e+27\n",
      " -8.39060387e+26 -7.41117642e+27 -1.66616381e+28 -5.77362453e+27]\n",
      "Test cost history =  1.2005450012188185e+93\n"
     ]
    }
   ],
   "source": [
    "# Gradient Descent for p1b training data\n",
    "theta = np.zeros(12)\n",
    "iterations1b = 100;\n",
    "alpha = 0.0000001;\n",
    "m = len(train_p1b)\n",
    "theta_p1b_train, cost_history1b_train = gradient_descent(train_p1b, y_p1_train, theta, alpha, iterations1b)\n",
    "m = len(test_p1b)\n",
    "theta_p1b_test, cost_history1b_test = gradient_descent(test_p1b, y_p1_test, theta, alpha, iterations1b)\n",
    "\n",
    "print('Final value of train theta =', theta_p1b_train)\n",
    "print('Train cost history = ', cost_history1b_train[iterations1b -1])\n",
    "print('Final value of test theta =', theta_p1b_train)\n",
    "print('Test cost history = ', cost_history1b_test[iterations1b -1])"
   ]
  },
  {
   "cell_type": "code",
   "execution_count": 22,
   "id": "36ff989b-21f6-478b-b8d9-456a4a7b6267",
   "metadata": {},
   "outputs": [
    {
     "data": {
      "image/png": "[encoded data removed]",
      "text/plain": [
       "<Figure size 720x432 with 1 Axes>"
      ]
     },
     "metadata": {
      "needs_background": "light"
     },
     "output_type": "display_data"
    }
   ],
   "source": [
    "# Plot gradient descent of p1b\n",
    "plt.plot(range(1,iterations1b+1), cost_history1b_train, color='red');\n",
    "plt.plot(range(1,iterations1b+1), cost_history1b_test, color='blue');\n",
    "plt.rcParams[\"figure.figsize\"] = (10,6)\n",
    "plt.grid()\n",
    "plt.xlabel('Number of iterations');\n",
    "plt.ylabel('Cost (J)');\n",
    "plt.title('Convergence of gradient descent of X_total');"
   ]
  },
  {
   "cell_type": "markdown",
   "id": "09c97b51-fccd-4fc6-a193-a3dbe80d2af4",
   "metadata": {},
   "source": [
    "# Problem 2"
   ]
  },
  {
   "cell_type": "code",
   "execution_count": 32,
   "id": "0eee474f-baaa-434d-8e71-495e69c0bc65",
   "metadata": {},
   "outputs": [
    {
     "data": {
      "text/html": [
       "<div>\n",
       "<style scoped>\n",
       "    .dataframe tbody tr th:only-of-type {\n",
       "        vertical-align: middle;\n",
       "    }\n",
       "\n",
       "    .dataframe tbody tr th {\n",
       "        vertical-align: top;\n",
       "    }\n",
       "\n",
       "    .dataframe thead th {\n",
       "        text-align: right;\n",
       "    }\n",
       "</style>\n",
       "<table border=\"1\" class=\"dataframe\">\n",
       "  <thead>\n",
       "    <tr style=\"text-align: right;\">\n",
       "      <th></th>\n",
       "      <th>area</th>\n",
       "      <th>bedrooms</th>\n",
       "      <th>bathrooms</th>\n",
       "      <th>stories</th>\n",
       "      <th>parking</th>\n",
       "    </tr>\n",
       "  </thead>\n",
       "  <tbody>\n",
       "    <tr>\n",
       "      <th>454</th>\n",
       "      <td>0.193548</td>\n",
       "      <td>0.5</td>\n",
       "      <td>0.0</td>\n",
       "      <td>0.333333</td>\n",
       "      <td>0.0</td>\n",
       "    </tr>\n",
       "    <tr>\n",
       "      <th>392</th>\n",
       "      <td>0.156495</td>\n",
       "      <td>0.5</td>\n",
       "      <td>0.0</td>\n",
       "      <td>0.333333</td>\n",
       "      <td>0.0</td>\n",
       "    </tr>\n",
       "    <tr>\n",
       "      <th>231</th>\n",
       "      <td>0.180471</td>\n",
       "      <td>0.5</td>\n",
       "      <td>0.0</td>\n",
       "      <td>0.000000</td>\n",
       "      <td>0.0</td>\n",
       "    </tr>\n",
       "    <tr>\n",
       "      <th>271</th>\n",
       "      <td>0.005013</td>\n",
       "      <td>1.0</td>\n",
       "      <td>0.0</td>\n",
       "      <td>0.333333</td>\n",
       "      <td>0.0</td>\n",
       "    </tr>\n",
       "    <tr>\n",
       "      <th>250</th>\n",
       "      <td>0.121622</td>\n",
       "      <td>0.5</td>\n",
       "      <td>0.0</td>\n",
       "      <td>0.666667</td>\n",
       "      <td>0.0</td>\n",
       "    </tr>\n",
       "  </tbody>\n",
       "</table>\n",
       "</div>"
      ],
      "text/plain": [
       "         area  bedrooms  bathrooms   stories  parking\n",
       "454  0.193548       0.5        0.0  0.333333      0.0\n",
       "392  0.156495       0.5        0.0  0.333333      0.0\n",
       "231  0.180471       0.5        0.0  0.000000      0.0\n",
       "271  0.005013       1.0        0.0  0.333333      0.0\n",
       "250  0.121622       0.5        0.0  0.666667      0.0"
      ]
     },
     "execution_count": 32,
     "metadata": {},
     "output_type": "execute_result"
    }
   ],
   "source": [
    "# Rescale the input variables\n",
    "import warnings\n",
    "warnings.filterwarnings('ignore')\n",
    "\n",
    "from sklearn.preprocessing import MinMaxScaler, StandardScaler\n",
    "\n",
    "# Normalization\n",
    "vars_a = ['area', 'bedrooms', 'bathrooms', 'stories', 'parking', 'price']\n",
    "vars_b = ['area', 'bedrooms', 'bathrooms', 'stories', 'mainroad', 'guestroom', 'basement', 'hotwaterheating', 'airconditioning', 'parking', 'prefarea', 'price']\n",
    "\n",
    "Norm_scaler = MinMaxScaler()\n",
    "norm_train_p2a = df_train[vars_a]\n",
    "norm_test_p2a = df_test[vars_a]\n",
    "norm_train_p2b = df_train[vars_b]\n",
    "norm_test_p2b = df_test[vars_b]\n",
    "\n",
    "norm_train_p2a[vars_a] = Norm_scaler.fit_transform(df_train[vars_a])\n",
    "norm_test_p2a[vars_a] = Norm_scaler.fit_transform(df_test[vars_a])\n",
    "norm_train_p2b[vars_b] = Norm_scaler.fit_transform(df_train[vars_b])\n",
    "norm_test_p2b[vars_b] = Norm_scaler.fit_transform(df_test[vars_b])\n",
    "\n",
    "y_norm_p2a = norm_train_p2a.pop('price')\n",
    "y_norm_test_p2a = norm_test_p2a.pop('price')\n",
    "y_norm_p2b = norm_train_p2b.pop('price')\n",
    "y_norm_test_p2b = norm_test_p2b.pop('price')\n",
    "\n",
    "norm_train_p2a.head()\n",
    "\n",
    "\n",
    "# Standardisation (mean-0, sigma-1)\n",
    "Std_scaler = StandardScaler()\n",
    "std_train_p2a = df_train[vars_a]\n",
    "std_test_p2a = df_test[vars_a]\n",
    "std_train_p2b = df_train[vars_b]\n",
    "std_test_p2b = df_test[vars_b]\n",
    "\n",
    "std_train_p2a[vars_a] = Std_scaler.fit_transform(df_train[vars_a])\n",
    "std_test_p2a[vars_a] = Std_scaler.fit_transform(df_test[vars_a])\n",
    "std_train_p2b[vars_b] = Std_scaler.fit_transform(df_train[vars_b])\n",
    "std_test_p2b[vars_b] = Std_scaler.fit_transform(df_test[vars_b])\n",
    "\n",
    "y_std_p2a = std_train_p2a.pop('price')\n",
    "y_std_test_p2a = std_test_p2a.pop('price')\n",
    "y_std_p2b = std_train_p2b.pop('price')\n",
    "y_std_test_p2b = std_test_p2b.pop('price')\n",
    "\n",
    "b = norm_train_p2a.values[:,0]\n"
   ]
  },
  {
   "cell_type": "markdown",
   "id": "1cea0997-b80c-4f0b-a559-2844bfec92b8",
   "metadata": {},
   "source": [
    "## Problem 2a)"
   ]
  },
  {
   "cell_type": "code",
   "execution_count": 33,
   "id": "cd7c7179-5bde-4e79-92c0-583c594f10be",
   "metadata": {},
   "outputs": [],
   "source": [
    "# Reshape the array\n",
    "\n",
    "tr2 = len(norm_train_p2a)\n",
    "ts2 = len(norm_test_p2a)\n",
    "tr2_one_p2a = np.ones((tr2,1))\n",
    "ts2_one_p2a = np.ones((ts2,1))\n",
    "Norm_train_p2a = np.hstack((tr2_one_p2a, norm_train_p2a))\n",
    "Norm_test_p2a = np.hstack((ts2_one_p2a, norm_test_p2a))\n",
    "Std_train_p2a = np.hstack((tr2_one_p2a, std_train_p2a))\n",
    "Std_test_p2a = np.hstack((ts2_one_p2a, std_test_p2a))\n"
   ]
  },
  {
   "cell_type": "code",
   "execution_count": 34,
   "id": "af80210d-b0bb-4b8b-a2e4-0f063e1e6034",
   "metadata": {},
   "outputs": [
    {
     "name": "stdout",
     "output_type": "stream",
     "text": [
      "Final value of normalized train theta = [0.11930485 0.10999427 0.09977779 0.11673309 0.11234269 0.10365732]\n",
      "Train cost history =  0.007556509778050631\n",
      "Final value of normalized test theta = [0.13866706 0.15529402 0.09245325 0.12835861 0.13867408 0.13407635]\n",
      "Test cost history =  0.00743236133443211\n"
     ]
    }
   ],
   "source": [
    "# Gradient Descent for p2a normalized training data\n",
    "\n",
    "theta = np.zeros(6)\n",
    "iterations2aN = 5000;\n",
    "alpha = 0.002;\n",
    "m = len(Norm_train_p2a)\n",
    "theta_p2aN_train, cost_history2aN_train = gradient_descent(Norm_train_p2a, y_norm_p2a, theta, alpha, iterations2aN)\n",
    "m = len(Norm_test_p2a)\n",
    "theta_p2aN_test, cost_history2aN_test = gradient_descent(Norm_test_p2a, y_norm_test_p2a, theta, alpha, iterations2aN)\n",
    "\n",
    "print('Final value of normalized train theta =', theta_p2aN_train)\n",
    "print('Train cost history = ', cost_history2aN_train[iterations2aN -1])\n",
    "print('Final value of normalized test theta =', theta_p2aN_test)\n",
    "print('Test cost history = ', cost_history2aN_test[iterations2aN -1])"
   ]
  },
  {
   "cell_type": "code",
   "execution_count": 35,
   "id": "4cd07c8e-32e7-461b-ab76-5db23df9d8d5",
   "metadata": {},
   "outputs": [
    {
     "data": {
      "image/png": "[encoded data removed]",
      "text/plain": [
       "<Figure size 720x432 with 1 Axes>"
      ]
     },
     "metadata": {
      "needs_background": "light"
     },
     "output_type": "display_data"
    }
   ],
   "source": [
    "# Plot gradient descent of p2a normalized\n",
    "\n",
    "plt.plot(range(1,iterations2aN+1), cost_history2aN_train, color='red');\n",
    "plt.plot(range(1,iterations2aN+1), cost_history2aN_test, color='blue');\n",
    "plt.rcParams[\"figure.figsize\"] = (10,6)\n",
    "plt.grid()\n",
    "plt.xlabel('Number of iterations');\n",
    "plt.ylabel('Cost (J)');\n",
    "plt.title('Convergence of gradient descent of Normalized Data for 2a');"
   ]
  },
  {
   "cell_type": "code",
   "execution_count": 61,
   "id": "ea97306d-eca6-4041-b141-6cc54cf1b774",
   "metadata": {},
   "outputs": [
    {
     "name": "stdout",
     "output_type": "stream",
     "text": [
      "Final value of standardized train theta = [1.78488895e-16 3.83035550e-01 1.05297772e-01 2.97841732e-01\n",
      " 2.34222604e-01 1.50377152e-01]\n",
      "Train cost history =  0.2357595778447401\n",
      "Final value of standardized test theta = [ 1.25834302e-17  4.00215285e-01 -2.77021042e-03  3.35156185e-01\n",
      "  2.69962109e-01  2.10854800e-01]\n",
      "Test cost history =  0.17260860721318985\n"
     ]
    }
   ],
   "source": [
    "# Gradient Descent for p2a standardized training data\n",
    "\n",
    "theta = np.zeros(6)\n",
    "iterations2a = 4000;\n",
    "alpha = 0.002;\n",
    "m = len(Std_train_p2a)\n",
    "theta_p2a_train, cost_history2a_train = gradient_descent(Std_train_p2a, y_std_p2a, theta, alpha, iterations2a)\n",
    "m = len(Std_test_p2a)\n",
    "theta_p2a_test, cost_history2a_test = gradient_descent(Std_test_p2a, y_std_test_p2a, theta, alpha, iterations2a)\n",
    "\n",
    "print('Final value of standardized train theta =', theta_p2a_train)\n",
    "print('Train cost history = ', cost_history2a_train[iterations2a -1])\n",
    "print('Final value of standardized test theta =', theta_p2a_test)\n",
    "print('Test cost history = ', cost_history2a_test[iterations2a -1])"
   ]
  },
  {
   "cell_type": "code",
   "execution_count": 64,
   "id": "6da44537-4a14-4e98-b01c-25c2199ca0e1",
   "metadata": {},
   "outputs": [
    {
     "data": {
      "image/png": "[encoded data removed]",
      "text/plain": [
       "<Figure size 720x432 with 1 Axes>"
      ]
     },
     "metadata": {
      "needs_background": "light"
     },
     "output_type": "display_data"
    }
   ],
   "source": [
    "# Plot gradient descent of p2a standardized\n",
    "\n",
    "plt.plot(range(1,iterations2a+1), cost_history2a_train, color='red');\n",
    "plt.plot(range(1,iterations2a+1), cost_history2a_test, color='blue');\n",
    "plt.rcParams[\"figure.figsize\"] = (10,6)\n",
    "plt.grid()\n",
    "plt.xlabel('Number of iterations');\n",
    "plt.ylabel('Cost (J)');\n",
    "plt.title('Convergence of gradient descent of Standardized Data for 2a');"
   ]
  },
  {
   "cell_type": "markdown",
   "id": "636841a2-e1e0-4092-abf0-935e0cfe6cd4",
   "metadata": {},
   "source": [
    "# Problem 2b)"
   ]
  },
  {
   "cell_type": "code",
   "execution_count": 65,
   "id": "73481c87-a2b6-4bbb-b03e-048215213bdf",
   "metadata": {},
   "outputs": [],
   "source": [
    "# Reshape the array\n",
    "\n",
    "tr2b = len(norm_train_p2b)\n",
    "ts2b = len(norm_test_p2b)\n",
    "tr2_one_p2b = np.ones((tr2b,1))\n",
    "ts2_one_p2b = np.ones((ts2b,1))\n",
    "train_p2b_N = np.hstack((tr2_one_p2b, norm_train_p2b))\n",
    "test_p2b_N = np.hstack((ts2_one_p2b, norm_test_p2b))\n",
    "train_p2b_S = np.hstack((tr2_one_p2b, std_train_p2b))\n",
    "test_p2b_S = np.hstack((ts2_one_p2b, std_test_p2b))"
   ]
  },
  {
   "cell_type": "code",
   "execution_count": 66,
   "id": "dfcf517c-9feb-4106-b553-5b0160a41094",
   "metadata": {},
   "outputs": [
    {
     "name": "stdout",
     "output_type": "stream",
     "text": [
      "Final value of normalized train theta = [0.07119075 0.04509166 0.05695323 0.05772307 0.06117707 0.07157008\n",
      " 0.03615303 0.03561135 0.02149649 0.07706422 0.05204593 0.05724567]\n",
      "Train cost history =  0.00629192241726409\n",
      "Final value of normalized test theta = [0.08546044 0.0695075  0.05818372 0.06072326 0.07627603 0.0901235\n",
      " 0.02706232 0.03229991 0.00556986 0.09097532 0.06818516 0.03569247]\n",
      "Test cost history =  0.00701046543137154\n"
     ]
    }
   ],
   "source": [
    "# Gradient Descent for p2b normalized training data\n",
    "\n",
    "theta = np.zeros(12)\n",
    "iterations2b = 4000;\n",
    "alpha = 0.001;\n",
    "m = len(train_p2b_N)\n",
    "theta_p2bN_train, cost_history2bN_train = gradient_descent(train_p2b_N, y_norm_p2b, theta, alpha, iterations2b)\n",
    "m = len(test_p2b_N)\n",
    "theta_p2bN_test, cost_history2bN_test = gradient_descent(test_p2b_N, y_norm_test_p2b, theta, alpha, iterations2b)\n",
    "\n",
    "print('Final value of normalized train theta =', theta_p2bN_train)\n",
    "print('Train cost history = ', cost_history2bN_train[iterations2b -1])\n",
    "print('Final value of normalized test theta =', theta_p2bN_test)\n",
    "print('Test cost history = ', cost_history2bN_test[iterations2b -1])"
   ]
  },
  {
   "cell_type": "code",
   "execution_count": 67,
   "id": "634bd1f1-0327-4ed1-a994-b200ffeee209",
   "metadata": {},
   "outputs": [
    {
     "data": {
      "image/png": "[encoded data removed]",
      "text/plain": [
       "<Figure size 720x432 with 1 Axes>"
      ]
     },
     "metadata": {
      "needs_background": "light"
     },
     "output_type": "display_data"
    }
   ],
   "source": [
    "# Plot gradient descent of p2b normalized\n",
    "\n",
    "plt.plot(range(1,iterations2b+1), cost_history2bN_train, color='red');\n",
    "plt.plot(range(1,iterations2b+1), cost_history2bN_test, color='blue');\n",
    "plt.rcParams[\"figure.figsize\"] = (10,6)\n",
    "plt.grid()\n",
    "plt.xlabel('Number of iterations');\n",
    "plt.ylabel('Cost (J)');\n",
    "plt.title('Convergence of gradient descent of Normalized data for 2b');"
   ]
  },
  {
   "cell_type": "code",
   "execution_count": 69,
   "id": "e5b53861-8a52-4f06-941f-a244bf2b3b77",
   "metadata": {},
   "outputs": [
    {
     "name": "stdout",
     "output_type": "stream",
     "text": [
      "Final value of standardized train theta = [1.69499876e-16 2.62318858e-01 7.29841727e-02 2.43634854e-01\n",
      " 1.92159216e-01 9.56560821e-02 8.79151283e-02 8.77612121e-02\n",
      " 1.33502290e-01 2.28806014e-01 1.21948919e-01 1.63245081e-01]\n",
      "Train cost history =  0.1752352097178961\n",
      "Final value of standardized test theta = [2.41839069e-17 3.14172176e-01 4.09504485e-02 3.06969143e-01\n",
      " 2.08772834e-01 9.58214824e-02 2.72658776e-02 1.10145102e-01\n",
      " 2.92528549e-02 2.11744092e-01 1.77318720e-01 9.77380812e-02]\n",
      "Test cost history =  0.12727070518432163\n"
     ]
    }
   ],
   "source": [
    "# Gradient Descent for p2b standardized training data\n",
    "\n",
    "theta = np.zeros(12)\n",
    "iterations2bS = 4000;\n",
    "alpha = 0.001;\n",
    "m = len(train_p2b_S)\n",
    "theta_p2bS_train, cost_history2bS_train = gradient_descent(train_p2b_S, y_std_p2b, theta, alpha, iterations2b)\n",
    "m = len(test_p2b_S)\n",
    "theta_p2bS_test, cost_history2bS_test = gradient_descent(test_p2b_S, y_std_test_p2b, theta, alpha, iterations2b)\n",
    "\n",
    "print('Final value of standardized train theta =', theta_p2bS_train)\n",
    "print('Train cost history = ', cost_history2bS_train[iterations2bS -1])\n",
    "print('Final value of standardized test theta =', theta_p2bS_test)\n",
    "print('Test cost history = ', cost_history2bS_test[iterations2bS -1])"
   ]
  },
  {
   "cell_type": "code",
   "execution_count": 70,
   "id": "436fe4bf-6309-4443-a964-9eeb7d6f8c53",
   "metadata": {},
   "outputs": [
    {
     "data": {
      "image/png": "[encoded data removed]",
      "text/plain": [
       "<Figure size 720x432 with 1 Axes>"
      ]
     },
     "metadata": {
      "needs_background": "light"
     },
     "output_type": "display_data"
    }
   ],
   "source": [
    "# Plot gradient descent of p2b standardized\n",
    "\n",
    "plt.plot(range(1,iterations2b+1), cost_history2bS_train, color='red');\n",
    "plt.plot(range(1,iterations2b+1), cost_history2bS_test, color='blue');\n",
    "plt.rcParams[\"figure.figsize\"] = (10,6)\n",
    "plt.grid()\n",
    "plt.xlabel('Number of iterations');\n",
    "plt.ylabel('Cost (J)');\n",
    "plt.title('Convergence of gradient descent of Standardized data for 2b');"
   ]
  },
  {
   "cell_type": "code",
   "execution_count": null,
   "id": "30e8a9a5-42f6-4d60-90c1-d6286e10257c",
   "metadata": {},
   "outputs": [],
   "source": []
  },
  {
   "cell_type": "markdown",
   "id": "3fd9b656-01ef-4e5a-9f7d-2b8ab1a58451",
   "metadata": {},
   "source": [
    "## Problem 3"
   ]
  },
  {
   "cell_type": "code",
   "execution_count": 38,
   "id": "cd24afea-96d3-443c-8368-4f58ecd2f7cb",
   "metadata": {},
   "outputs": [],
   "source": [
    "# Add paramter penalty to the loss function\n",
    "\n",
    "def gradient_descent_reg(x, y, theta, alpha, lam, iterations):\n",
    "    \n",
    "    cost_history = np.zeros(iterations)\n",
    "    \n",
    "    for i in range(iterations):\n",
    "        prediction = x.dot(theta)\n",
    "        error = np.subtract(prediction, y)\n",
    "        G = (1/m) * x.transpose().dot(error);\n",
    "        theta = (theta*(1-((alpha*lam)/m))) - (G * alpha);\n",
    "        \n",
    "        cost_history[i] = cost_function(x, y, theta)\n",
    "\n",
    "    return theta, cost_history"
   ]
  },
  {
   "cell_type": "code",
   "execution_count": 41,
   "id": "d5284c34-d8e4-418f-861c-2d4be23708cb",
   "metadata": {},
   "outputs": [],
   "source": [
    "# Obtain data\n",
    "\n",
    "norm_train_3a =  np.hstack((tr2_one_p2a, norm_train_p2a))\n",
    "norm_test_3a = np.hstack((ts2_one_p2a, norm_test_p2a))\n",
    "std_train_3a = np.hstack((tr2_one_p2a, std_train_p2a))\n",
    "std_test_3a = np.hstack((ts2_one_p2a, std_test_p2a))\n",
    "norm_train_3b = np.hstack((tr2_one_p2b, norm_train_p2b))\n",
    "norm_test_3b = np.hstack((ts2_one_p2b, norm_test_p2b))\n",
    "std_train_3b= np.hstack((tr2_one_p2b, std_train_p2b))\n",
    "std_test_3b= np.hstack((ts2_one_p2b, std_test_p2b))"
   ]
  },
  {
   "cell_type": "code",
   "execution_count": 54,
   "id": "af7d0821-aa70-4fc8-84b5-6b02484fff5e",
   "metadata": {},
   "outputs": [
    {
     "name": "stdout",
     "output_type": "stream",
     "text": [
      "Final value of normalized train theta = [0.15145894 0.07262315 0.09659443 0.0724987  0.08483292 0.07703822]\n",
      "Train cost history =  0.008550520487744481\n",
      "Final value of normalized test theta = [0.17753678 0.10169948 0.09231062 0.07281694 0.10228916 0.09428083]\n",
      "Test cost history =  0.009189018810084245\n"
     ]
    }
   ],
   "source": [
    "# Gradient Descent for p3a normalized training data\n",
    "\n",
    "theta = np.zeros(6)\n",
    "iterations3aN = 4000;\n",
    "alpha = 0.001;\n",
    "lam = 0.1\n",
    "m = len(norm_train_3a)\n",
    "theta_p3aN_train, cost_history3aN_train = gradient_descent_reg(norm_train_3a, y_norm_p2a, theta, alpha, lam, iterations3aN)\n",
    "m = len(norm_test_3a)\n",
    "theta_p3aN_test, cost_history3aN_test = gradient_descent_reg(norm_test_3a, y_norm_test_p2a, theta, alpha, lam, iterations3aN)\n",
    "\n",
    "print('Final value of normalized train theta =', theta_p3aN_train)\n",
    "print('Train cost history = ', cost_history3aN_train[iterations3aN -1])\n",
    "print('Final value of normalized test theta =', theta_p3aN_test)\n",
    "print('Test cost history = ', cost_history3aN_test[iterations3aN -1])"
   ]
  },
  {
   "cell_type": "code",
   "execution_count": 56,
   "id": "d614b001-02b6-4cc7-81e1-80789cd5d23e",
   "metadata": {},
   "outputs": [
    {
     "data": {
      "image/png": "[encoded data removed]",
      "text/plain": [
       "<Figure size 720x432 with 1 Axes>"
      ]
     },
     "metadata": {
      "needs_background": "light"
     },
     "output_type": "display_data"
    }
   ],
   "source": [
    "# Plot gradient descent of p3a normalized\n",
    "\n",
    "plt.plot(range(1,iterations3aN+1), cost_history3aN_train, color='red');\n",
    "plt.plot(range(1,iterations3aN+1), cost_history3aN_test, color='blue');\n",
    "plt.rcParams[\"figure.figsize\"] = (10,6)\n",
    "plt.grid()\n",
    "plt.xlabel('Number of iterations');\n",
    "plt.ylabel('Cost (J)');\n",
    "plt.title('Convergence of gradient descent of Normalized data for 3a');"
   ]
  },
  {
   "cell_type": "code",
   "execution_count": 57,
   "id": "364aefd4-dbd8-47f8-b476-7bd1eb1e0854",
   "metadata": {},
   "outputs": [
    {
     "name": "stdout",
     "output_type": "stream",
     "text": [
      "Final value of normalized train theta = [1.58300748e-16 3.66594732e-01 1.15989333e-01 2.86528750e-01\n",
      " 2.26727186e-01 1.56325750e-01]\n",
      "Train cost history =  0.23600814801933875\n",
      "Final value of normalized test theta = [0.17753678 0.10169948 0.09231062 0.07281694 0.10228916 0.09428083]\n",
      "Test cost history =  0.173538353495331\n"
     ]
    }
   ],
   "source": [
    "# Gradient Descent for p3a standardized training data\n",
    "\n",
    "theta = np.zeros(6)\n",
    "iterations3aS = 4000;\n",
    "alpha = 0.001;\n",
    "lam = 10\n",
    "m = len(std_train_3a)\n",
    "theta_p3aS_train, cost_history3aS_train = gradient_descent_reg(std_train_3a, y_std_p2a, theta, alpha, lam, iterations3aS)\n",
    "m = len(std_test_3a)\n",
    "theta_p3aS_test, cost_history3aS_test = gradient_descent_reg(std_test_3a, y_std_test_p2a, theta, alpha, lam, iterations3aS)\n",
    "\n",
    "print('Final value of normalized train theta =', theta_p3aS_train)\n",
    "print('Train cost history = ', cost_history3aS_train[iterations3aS -1])\n",
    "print('Final value of normalized test theta =', theta_p3aN_test)\n",
    "print('Test cost history = ', cost_history3aS_test[iterations3aS -1])"
   ]
  },
  {
   "cell_type": "code",
   "execution_count": 58,
   "id": "e2698ad8-085c-435b-aa31-758bfb1776b1",
   "metadata": {},
   "outputs": [
    {
     "data": {
      "image/png": "[encoded data removed]",
      "text/plain": [
       "<Figure size 720x432 with 1 Axes>"
      ]
     },
     "metadata": {
      "needs_background": "light"
     },
     "output_type": "display_data"
    }
   ],
   "source": [
    "# Plot gradient descent of p3a standardized\n",
    "\n",
    "plt.plot(range(1,iterations3aS+1), cost_history3aS_train, color='red');\n",
    "plt.plot(range(1,iterations3aS+1), cost_history3aS_test, color='blue');\n",
    "plt.rcParams[\"figure.figsize\"] = (10,6)\n",
    "plt.grid()\n",
    "plt.xlabel('Number of iterations');\n",
    "plt.ylabel('Cost (J)');\n",
    "plt.title('Convergence of gradient descent of Standardized data for 3a');"
   ]
  },
  {
   "cell_type": "code",
   "execution_count": 59,
   "id": "84b86683-9383-4800-8ed1-6e16c3a5998d",
   "metadata": {},
   "outputs": [
    {
     "name": "stdout",
     "output_type": "stream",
     "text": [
      "Final value of normalized train theta = [0.07164694 0.04388624 0.0561993  0.05560548 0.05945443 0.07167097\n",
      " 0.0353082  0.03545103 0.02060043 0.07509353 0.05060352 0.05574412]\n",
      "Train cost history =  0.006363884037193899\n",
      "Final value of normalized test theta = [0.08612794 0.06471265 0.05602037 0.05532426 0.07111936 0.08943431\n",
      " 0.02649754 0.03276448 0.00539457 0.08525337 0.06336177 0.03454216]\n",
      "Test cost history =  0.00726659626712633\n"
     ]
    }
   ],
   "source": [
    "# Gradient Descent for p3b normalized training data\n",
    "\n",
    "theta = np.zeros(12)\n",
    "iterations3bN = 4000;\n",
    "alpha = 0.001;\n",
    "lam = 10\n",
    "m = len(norm_train_3b)\n",
    "theta_p3bN_train, cost_history3bN_train = gradient_descent_reg(norm_train_3b, y_norm_p2b, theta, alpha, lam, iterations3bN)\n",
    "m = len(norm_test_3b)\n",
    "theta_p3bN_test, cost_history3bN_test = gradient_descent_reg(norm_test_3b, y_norm_test_p2b, theta, alpha, lam, iterations3bN)\n",
    "\n",
    "print('Final value of normalized train theta =', theta_p3bN_train)\n",
    "print('Train cost history = ', cost_history3bN_train[iterations3bN -1])\n",
    "print('Final value of normalized test theta =', theta_p3bN_test)\n",
    "print('Test cost history = ', cost_history3bN_test[iterations3bN -1])"
   ]
  },
  {
   "cell_type": "code",
   "execution_count": 60,
   "id": "94330453-54c6-4f00-a1ed-c869e389dc24",
   "metadata": {},
   "outputs": [
    {
     "data": {
      "image/png": "[encoded data removed]",
      "text/plain": [
       "<Figure size 720x432 with 1 Axes>"
      ]
     },
     "metadata": {
      "needs_background": "light"
     },
     "output_type": "display_data"
    }
   ],
   "source": [
    "# Plot gradient descent of p3a normalized\n",
    "\n",
    "plt.plot(range(1,iterations3bN+1), cost_history3bN_train, color='red');\n",
    "plt.plot(range(1,iterations3bN+1), cost_history3bN_test, color='blue');\n",
    "plt.rcParams[\"figure.figsize\"] = (10,6)\n",
    "plt.grid()\n",
    "plt.xlabel('Number of iterations');\n",
    "plt.ylabel('Cost (J)');\n",
    "plt.title('Convergence of gradient descent of Normalized data for 3b');"
   ]
  },
  {
   "cell_type": "code",
   "execution_count": 48,
   "id": "2f296bc0-4819-4d3e-976d-e880199accb6",
   "metadata": {},
   "outputs": [
    {
     "name": "stdout",
     "output_type": "stream",
     "text": [
      "Final value of normalized train theta = [1.62919045e-16 2.58124501e-01 7.48240177e-02 2.39906375e-01\n",
      " 1.89349812e-01 9.52263658e-02 8.77461927e-02 8.65743795e-02\n",
      " 1.30026198e-01 2.25005614e-01 1.21639590e-01 1.61247497e-01]\n",
      "Train cost history =  0.1753633816202641\n",
      "Final value of normalized test theta = [0.17274228 0.0945585  0.08839038 0.06660896 0.09552452 0.08763403]\n",
      "Test cost history =  0.12785068974469774\n"
     ]
    }
   ],
   "source": [
    "# Gradient Descent for p3a standardized training data\n",
    "\n",
    "theta = np.zeros(12)\n",
    "iterations3bS = 4000;\n",
    "alpha = 0.001;\n",
    "lam = 10\n",
    "m = len(std_train_3b)\n",
    "theta_p3bS_train, cost_history3bS_train = gradient_descent_reg(std_train_3b, y_std_p2b, theta, alpha, lam, iterations3aS)\n",
    "m = len(std_test_3b)\n",
    "theta_p3bS_test, cost_history3bS_test = gradient_descent_reg(std_test_3b, y_std_test_p2b, theta, alpha, lam, iterations3aS)\n",
    "\n",
    "print('Final value of normalized train theta =', theta_p3bS_train)\n",
    "print('Train cost history = ', cost_history3bS_train[iterations3bS -1])\n",
    "print('Final value of normalized test theta =', theta_p3aN_test)\n",
    "print('Test cost history = ', cost_history3bS_test[iterations3bS -1])"
   ]
  },
  {
   "cell_type": "code",
   "execution_count": 49,
   "id": "f6f76e85-adbe-48a4-afe0-ceb86d1f401b",
   "metadata": {},
   "outputs": [
    {
     "data": {
      "image/png": "[encoded data removed]",
      "text/plain": [
       "<Figure size 720x432 with 1 Axes>"
      ]
     },
     "metadata": {
      "needs_background": "light"
     },
     "output_type": "display_data"
    }
   ],
   "source": [
    "# Plot gradient descent of p3a standardized\n",
    "\n",
    "plt.plot(range(1,iterations3bS+1), cost_history3bS_train, color='red');\n",
    "plt.plot(range(1,iterations3bS+1), cost_history3bS_test, color='blue');\n",
    "plt.rcParams[\"figure.figsize\"] = (10,6)\n",
    "plt.grid()\n",
    "plt.xlabel('Number of iterations');\n",
    "plt.ylabel('Cost (J)');\n",
    "plt.title('Convergence of gradient descent of Standardized data for 3b');"
   ]
  },
  {
   "cell_type": "code",
   "execution_count": null,
   "id": "b472ecaa-d1c1-4b58-b231-0c24a4467f09",
   "metadata": {},
   "outputs": [],
   "source": []
  }
 ],
 "metadata": {
  "kernelspec": {
   "display_name": "Python 3",
   "language": "python",
   "name": "python3"
  },
  "language_info": {
   "codemirror_mode": {
    "name": "ipython",
    "version": 3
   },
   "file_extension": ".py",
   "mimetype": "text/x-python",
   "name": "python",
   "nbconvert_exporter": "python",
   "pygments_lexer": "ipython3",
   "version": "3.8.8"
  }
 },
 "nbformat": 4,
 "nbformat_minor": 5
}
