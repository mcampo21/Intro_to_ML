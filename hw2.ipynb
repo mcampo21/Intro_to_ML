{
 "cells": [
  {
   "cell_type": "code",
   "execution_count": 1,
   "id": "fa86ea5c-c6c7-40ba-9e96-a6da14c8eea9",
   "metadata": {},
   "outputs": [],
   "source": [
    "# Intro to Machine Learning\n",
    "# Homework 2\n",
    "# Michael Campo ID: 801147955"
   ]
  },
  {
   "cell_type": "code",
   "execution_count": 2,
   "id": "e210a253-e9d1-4175-90cf-ac2e32bfd791",
   "metadata": {},
   "outputs": [],
   "source": [
    "import numpy as np\n",
    "import matplotlib.pyplot as plt\n",
    "import pandas as pd\n",
    "\n",
    "from IPython.core.interactiveshell import InteractiveShell\n",
    "InteractiveShell.ast_node_interactivity = \"all\""
   ]
  },
  {
   "cell_type": "code",
   "execution_count": 3,
   "id": "9dfc6f3c-a136-4e42-b1fa-7f878a77b438",
   "metadata": {},
   "outputs": [
    {
     "data": {
      "text/html": [
       "<div>\n",
       "<style scoped>\n",
       "    .dataframe tbody tr th:only-of-type {\n",
       "        vertical-align: middle;\n",
       "    }\n",
       "\n",
       "    .dataframe tbody tr th {\n",
       "        vertical-align: top;\n",
       "    }\n",
       "\n",
       "    .dataframe thead th {\n",
       "        text-align: right;\n",
       "    }\n",
       "</style>\n",
       "<table border=\"1\" class=\"dataframe\">\n",
       "  <thead>\n",
       "    <tr style=\"text-align: right;\">\n",
       "      <th></th>\n",
       "      <th>Pregnancies</th>\n",
       "      <th>Glucose</th>\n",
       "      <th>BloodPressure</th>\n",
       "      <th>SkinThickness</th>\n",
       "      <th>Insulin</th>\n",
       "      <th>BMI</th>\n",
       "      <th>DiabetesPedigreeFunction</th>\n",
       "      <th>Age</th>\n",
       "      <th>Outcome</th>\n",
       "    </tr>\n",
       "  </thead>\n",
       "  <tbody>\n",
       "    <tr>\n",
       "      <th>0</th>\n",
       "      <td>6</td>\n",
       "      <td>148</td>\n",
       "      <td>72</td>\n",
       "      <td>35</td>\n",
       "      <td>0</td>\n",
       "      <td>33.6</td>\n",
       "      <td>0.627</td>\n",
       "      <td>50</td>\n",
       "      <td>1</td>\n",
       "    </tr>\n",
       "    <tr>\n",
       "      <th>1</th>\n",
       "      <td>1</td>\n",
       "      <td>85</td>\n",
       "      <td>66</td>\n",
       "      <td>29</td>\n",
       "      <td>0</td>\n",
       "      <td>26.6</td>\n",
       "      <td>0.351</td>\n",
       "      <td>31</td>\n",
       "      <td>0</td>\n",
       "    </tr>\n",
       "    <tr>\n",
       "      <th>2</th>\n",
       "      <td>8</td>\n",
       "      <td>183</td>\n",
       "      <td>64</td>\n",
       "      <td>0</td>\n",
       "      <td>0</td>\n",
       "      <td>23.3</td>\n",
       "      <td>0.672</td>\n",
       "      <td>32</td>\n",
       "      <td>1</td>\n",
       "    </tr>\n",
       "    <tr>\n",
       "      <th>3</th>\n",
       "      <td>1</td>\n",
       "      <td>89</td>\n",
       "      <td>66</td>\n",
       "      <td>23</td>\n",
       "      <td>94</td>\n",
       "      <td>28.1</td>\n",
       "      <td>0.167</td>\n",
       "      <td>21</td>\n",
       "      <td>0</td>\n",
       "    </tr>\n",
       "    <tr>\n",
       "      <th>4</th>\n",
       "      <td>0</td>\n",
       "      <td>137</td>\n",
       "      <td>40</td>\n",
       "      <td>35</td>\n",
       "      <td>168</td>\n",
       "      <td>43.1</td>\n",
       "      <td>2.288</td>\n",
       "      <td>33</td>\n",
       "      <td>1</td>\n",
       "    </tr>\n",
       "  </tbody>\n",
       "</table>\n",
       "</div>"
      ],
      "text/plain": [
       "   Pregnancies  Glucose  BloodPressure  SkinThickness  Insulin   BMI  \\\n",
       "0            6      148             72             35        0  33.6   \n",
       "1            1       85             66             29        0  26.6   \n",
       "2            8      183             64              0        0  23.3   \n",
       "3            1       89             66             23       94  28.1   \n",
       "4            0      137             40             35      168  43.1   \n",
       "\n",
       "   DiabetesPedigreeFunction  Age  Outcome  \n",
       "0                     0.627   50        1  \n",
       "1                     0.351   31        0  \n",
       "2                     0.672   32        1  \n",
       "3                     0.167   21        0  \n",
       "4                     2.288   33        1  "
      ]
     },
     "execution_count": 3,
     "metadata": {},
     "output_type": "execute_result"
    }
   ],
   "source": [
    "data1 = pd.read_csv('diabetes.csv')\n",
    "data1.head()\n"
   ]
  },
  {
   "cell_type": "markdown",
   "id": "d3b7f6f1-4f11-45d6-a998-bcfff3d88bca",
   "metadata": {},
   "source": [
    "# Problem 1"
   ]
  },
  {
   "cell_type": "code",
   "execution_count": 4,
   "id": "9d4a7d94-354f-45a3-b83d-530abb0371b9",
   "metadata": {},
   "outputs": [
    {
     "data": {
      "text/plain": [
       "(614,)"
      ]
     },
     "execution_count": 4,
     "metadata": {},
     "output_type": "execute_result"
    }
   ],
   "source": [
    "# Split data into Training and Test set\n",
    "from sklearn.model_selection import train_test_split\n",
    "\n",
    "df_train, df_test = train_test_split(data1, train_size = 0.80, test_size = 0.20, random_state = 0)\n",
    "\n",
    "Y_train = df_train.iloc[:,8].values\n",
    "Y_test = df_test.iloc[:,8].values\n",
    "Y_train.shape"
   ]
  },
  {
   "cell_type": "code",
   "execution_count": 5,
   "id": "a3dff905-1fc4-44a5-833d-a90be4b845b4",
   "metadata": {},
   "outputs": [
    {
     "data": {
      "text/plain": [
       "array([-0.56553774, -0.42589245,  0.2898275 ,  0.6313163 ,  0.28030801,\n",
       "        0.31944116, -0.27698825, -0.83598035, -0.66276115])"
      ]
     },
     "execution_count": 5,
     "metadata": {},
     "output_type": "execute_result"
    }
   ],
   "source": [
    "#Feature scale data\n",
    "from sklearn.preprocessing import StandardScaler\n",
    "\n",
    "sc = StandardScaler()\n",
    "train = sc.fit_transform(df_train)\n",
    "test = sc.fit_transform(df_test)\n",
    "test[1]"
   ]
  },
  {
   "cell_type": "code",
   "execution_count": 6,
   "id": "10183b6d-b07b-464e-8164-515736d3f4a3",
   "metadata": {},
   "outputs": [
    {
     "data": {
      "text/plain": [
       "(614, 8)"
      ]
     },
     "execution_count": 6,
     "metadata": {},
     "output_type": "execute_result"
    }
   ],
   "source": [
    "# Split data into features and outcome\n",
    "\n",
    "trainData = np.asarray(train[:, 0:8])\n",
    "testData = np.asarray(test[:, 0:8])\n",
    "trainData.shape"
   ]
  },
  {
   "cell_type": "code",
   "execution_count": 7,
   "id": "7e452eba-392c-40f2-9923-66149c68841d",
   "metadata": {},
   "outputs": [
    {
     "data": {
      "text/plain": [
       "LogisticRegression()"
      ]
     },
     "execution_count": 7,
     "metadata": {},
     "output_type": "execute_result"
    }
   ],
   "source": [
    "# Import Logistic Regression Function\n",
    "from sklearn.linear_model import LogisticRegression\n",
    "\n",
    "classifier = LogisticRegression()\n",
    "classifier.fit(trainData, Y_train)"
   ]
  },
  {
   "cell_type": "code",
   "execution_count": 8,
   "id": "8a60be50-087b-4527-8919-3a71aa2212cf",
   "metadata": {},
   "outputs": [
    {
     "data": {
      "text/plain": [
       "array([1, 0, 0, 1, 0, 0, 1, 1, 0], dtype=int64)"
      ]
     },
     "execution_count": 8,
     "metadata": {},
     "output_type": "execute_result"
    }
   ],
   "source": [
    "Y_pred = classifier.predict(testData)\n",
    "Y_pred[0:9]"
   ]
  },
  {
   "cell_type": "code",
   "execution_count": 43,
   "id": "109a4aac-3e71-4732-a3f8-7a0ca39e23a7",
   "metadata": {},
   "outputs": [
    {
     "data": {
      "text/plain": [
       "array([[94, 13],\n",
       "       [18, 29]], dtype=int64)"
      ]
     },
     "execution_count": 43,
     "metadata": {},
     "output_type": "execute_result"
    },
    {
     "data": {
      "text/plain": [
       "0.7987012987012987"
      ]
     },
     "execution_count": 43,
     "metadata": {},
     "output_type": "execute_result"
    }
   ],
   "source": [
    "# Display the data in a Confusion Matrix\n",
    "from sklearn.metrics import confusion_matrix, accuracy_score, precision_score, recall_score\n",
    "\n",
    "cnf_matrix = confusion_matrix(Y_test, Y_pred)\n",
    "ac = accuracy_score(Y_test, Y_pred)\n",
    "cnf_matrix\n",
    "ac"
   ]
  },
  {
   "cell_type": "code",
   "execution_count": 44,
   "id": "61809964-1279-4d84-b29d-72ce8f5e5a76",
   "metadata": {},
   "outputs": [
    {
     "name": "stdout",
     "output_type": "stream",
     "text": [
      "Accuracy: 0.7987012987012987\n",
      "Precision: 0.6904761904761905\n",
      "Recall: 0.6170212765957447\n"
     ]
    }
   ],
   "source": [
    "# Evalutate the model using evaluation metrics\n",
    "from sklearn import metrics\n",
    "\n",
    "print(\"Accuracy:\", metrics.accuracy_score(Y_test, Y_pred))\n",
    "print(\"Precision:\", metrics.precision_score(Y_test, Y_pred))\n",
    "print(\"Recall:\", metrics.recall_score(Y_test, Y_pred))"
   ]
  },
  {
   "cell_type": "code",
   "execution_count": 45,
   "id": "02f3d1df-0602-4eed-a38c-d51805d888fc",
   "metadata": {},
   "outputs": [
    {
     "data": {
      "image/png": "[encoded data removed]",
      "text/plain": [
       "<Figure size 432x288 with 2 Axes>"
      ]
     },
     "metadata": {
      "needs_background": "light"
     },
     "output_type": "display_data"
    }
   ],
   "source": [
    "# Visualize the results of the model in the form of a heat map confusion matrix\n",
    "import warnings\n",
    "warnings.filterwarnings('ignore')\n",
    "\n",
    "import seaborn as sns\n",
    "class_names=[0,1]\n",
    "fig, ax = plt.subplots()\n",
    "tick_marks = np.arange(len(class_names));\n",
    "plt.xticks(tick_marks, class_names);\n",
    "plt.yticks(tick_marks, class_names);\n",
    "\n",
    "# Create heatmap\n",
    "sns.heatmap(pd.DataFrame(cnf_matrix), annot=True, cmap=\"YlGnBu\", fmt='g')\n",
    "ax.xaxis.set_label_position(\"top\");\n",
    "plt.tight_layout();\n",
    "plt.title('Confusion Matrix - Logistic Regression', y=1.1);\n",
    "plt.ylabel('Actual label');\n",
    "plt.xlabel('Predicted label');"
   ]
  },
  {
   "cell_type": "markdown",
   "id": "db9e3b33-5774-4e49-aa28-de58a16f99af",
   "metadata": {},
   "source": [
    "# Problem 2"
   ]
  },
  {
   "cell_type": "code",
   "execution_count": 46,
   "id": "00d6fbc6-a6e6-4a3e-af1c-ef1fd3d1eeae",
   "metadata": {},
   "outputs": [
    {
     "data": {
      "text/plain": [
       "GaussianNB()"
      ]
     },
     "execution_count": 46,
     "metadata": {},
     "output_type": "execute_result"
    }
   ],
   "source": [
    "# Naive Gaussian Bayes\n",
    "from sklearn.naive_bayes import GaussianNB\n",
    "classifier_NB = GaussianNB()\n",
    "classifier_NB.fit(trainData, Y_train)"
   ]
  },
  {
   "cell_type": "code",
   "execution_count": 47,
   "id": "19c1e19b-36c2-4705-9c3a-ac9eaa089ac2",
   "metadata": {},
   "outputs": [],
   "source": [
    "Y2_pred = classifier_NB.predict(testData)"
   ]
  },
  {
   "cell_type": "code",
   "execution_count": 48,
   "id": "66e0de90-0871-48f9-bb40-c2483a87e418",
   "metadata": {},
   "outputs": [
    {
     "data": {
      "text/plain": [
       "array([[87, 20],\n",
       "       [16, 31]], dtype=int64)"
      ]
     },
     "execution_count": 48,
     "metadata": {},
     "output_type": "execute_result"
    },
    {
     "data": {
      "text/plain": [
       "0.7662337662337663"
      ]
     },
     "execution_count": 48,
     "metadata": {},
     "output_type": "execute_result"
    }
   ],
   "source": [
    "# Naive Bayes Confusion Matrix\n",
    "\n",
    "cnf_matrixNB = confusion_matrix(Y_test, Y2_pred)\n",
    "acNB = accuracy_score(Y_test,  Y2_pred)\n",
    "cnf_matrixNB\n",
    "acNB"
   ]
  },
  {
   "cell_type": "code",
   "execution_count": 49,
   "id": "0b08dc27-ab75-4d03-a1ad-57fceb3af6d7",
   "metadata": {},
   "outputs": [
    {
     "name": "stdout",
     "output_type": "stream",
     "text": [
      "Accuracy: 0.7662337662337663\n",
      "Precision: 0.6078431372549019\n",
      "Recall: 0.6595744680851063\n"
     ]
    }
   ],
   "source": [
    "# Evalutate the NB model using evaluation metrics\n",
    "from sklearn import metrics\n",
    "\n",
    "print(\"Accuracy:\", metrics.accuracy_score(Y_test, Y2_pred))\n",
    "print(\"Precision:\", metrics.precision_score(Y_test, Y2_pred))\n",
    "print(\"Recall:\", metrics.recall_score(Y_test, Y2_pred))"
   ]
  },
  {
   "cell_type": "code",
   "execution_count": 50,
   "id": "5dd667e6-1e76-4c6e-ba9f-66d8c62d2a60",
   "metadata": {},
   "outputs": [
    {
     "data": {
      "image/png": "[encoded data removed]",
      "text/plain": [
       "<Figure size 432x288 with 2 Axes>"
      ]
     },
     "metadata": {
      "needs_background": "light"
     },
     "output_type": "display_data"
    }
   ],
   "source": [
    "# Visualize the results of the model in the form of a heat map confusion matrix\n",
    "import seaborn as sns\n",
    "class_names=[0,1]\n",
    "fig, ax = plt.subplots()\n",
    "tick_marks = np.arange(len(class_names))\n",
    "plt.xticks(tick_marks, class_names)\n",
    "plt.yticks(tick_marks, class_names)\n",
    "\n",
    "# Create heatmap\n",
    "sns.heatmap(pd.DataFrame(cnf_matrixNB), annot=True, cmap=\"YlGnBu\", fmt='g')\n",
    "ax.xaxis.set_label_position(\"top\")\n",
    "plt.tight_layout()\n",
    "plt.title('Confusion Matrix - Naive Bayes', y=1.1);\n",
    "plt.ylabel('Actual label');\n",
    "plt.xlabel('Predicted label');"
   ]
  },
  {
   "cell_type": "markdown",
   "id": "39bef2e2-9d90-430a-bc0b-644b02594dd3",
   "metadata": {},
   "source": [
    "# Problem 3"
   ]
  },
  {
   "cell_type": "code",
   "execution_count": 51,
   "id": "45a95f56-c2f7-4cb4-be53-028e9bf63ce1",
   "metadata": {},
   "outputs": [],
   "source": [
    "# K-fold Cross validation\n",
    "from sklearn.model_selection import KFold\n",
    "kf_5 = KFold(n_splits=5)\n",
    "kf_10 = KFold(n_splits=10)\n",
    "\n",
    "x = data1.iloc[:,0:8].values\n",
    "Y = data1.iloc[:,8].values\n",
    "X = sc.fit_transform(x)\n",
    "\n",
    "def get_score(model, X_train, X_test, Y_train, Y_test):\n",
    "    model.fit(X_train, Y_train)\n",
    "    return model.score(X_test, Y_test)\n",
    "\n",
    "#for train_index, test_index in kf_5.split(X):\n",
    " #   print(\"TRAIN:\", train_index, \"\\n\", \"TEST:\", test_index)\n",
    "  #  X_train, X_test = X[train_index], X[test_index]\n",
    "   # Y_train, Y_test = Y[train_index], Y[test_index]"
   ]
  },
  {
   "cell_type": "code",
   "execution_count": 73,
   "id": "954227d5-b0e3-4918-a7fa-7745d7aad995",
   "metadata": {},
   "outputs": [
    {
     "name": "stdout",
     "output_type": "stream",
     "text": [
      "K-Fold 5 Splits\n",
      "Accuracy: 0.7722 , Recall: 0.5754 , Precision: 0.7177\n",
      "\n",
      "K-Fold 10 Splits\n",
      "Accuracy: 0.7800 , Recall: 0.5851 , Precision: 0.7325\n"
     ]
    }
   ],
   "source": [
    "# K-fold training\n",
    "from numpy import mean\n",
    "from numpy import std\n",
    "from sklearn.metrics import make_scorer\n",
    "from sklearn.model_selection import cross_validate\n",
    "\n",
    "scoring = {'accuracy' : make_scorer(accuracy_score), \n",
    "           'precision' : make_scorer(precision_score),\n",
    "           'recall' : make_scorer(recall_score)}\n",
    "\n",
    "res1 = cross_validate(LogisticRegression(), X, Y, scoring=scoring, cv=kf_5)\n",
    "res2 = cross_validate(LogisticRegression(), X, Y, scoring=scoring, cv=kf_10)\n",
    "\n",
    "print(\"K-Fold 5 Splits\")\n",
    "print('Accuracy: %.4f , Recall: %.4f , Precision: %.4f' %(np.mean(res1['test_accuracy']), np.mean(res1['test_recall']), np.mean(res1['test_precision'])))\n",
    "\n",
    "print(\"\\nK-Fold 10 Splits\")\n",
    "print('Accuracy: %.4f , Recall: %.4f , Precision: %.4f' %(np.mean(res2['test_accuracy']), np.mean(res2['test_recall']), np.mean(res2['test_precision'])))"
   ]
  },
  {
   "cell_type": "markdown",
   "id": "1fa09524-3ee2-4597-ae92-2fad8acabfb1",
   "metadata": {},
   "source": [
    "# Problem 4"
   ]
  },
  {
   "cell_type": "code",
   "execution_count": 74,
   "id": "d228758e-4f06-40f9-8717-b698334efcf2",
   "metadata": {},
   "outputs": [
    {
     "name": "stdout",
     "output_type": "stream",
     "text": [
      "K-Fold 5 Splits\n",
      "Accuracy: 0.7527 , Recall: 0.6015 , Precision: 0.6618\n",
      "\n",
      "K-Fold 10 Splits\n",
      "Accuracy: 0.7552 , Recall: 0.6010 , Precision: 0.6646\n"
     ]
    }
   ],
   "source": [
    "# K-fold CV using Naive Bayes\n",
    "\n",
    "resNB1 = cross_validate(GaussianNB(), X, Y, scoring = scoring, cv=kf_5)\n",
    "resNB2 = cross_validate(GaussianNB(), X, Y, scoring = scoring, cv=kf_10)\n",
    "\n",
    "print(\"K-Fold 5 Splits\")\n",
    "print('Accuracy: %.4f , Recall: %.4f , Precision: %.4f' %(np.mean(resNB1['test_accuracy']), np.mean(resNB1['test_recall']), np.mean(resNB1['test_precision'])))\n",
    "\n",
    "print(\"\\nK-Fold 10 Splits\")\n",
    "print('Accuracy: %.4f , Recall: %.4f , Precision: %.4f' %(np.mean(resNB2['test_accuracy']), np.mean(resNB2['test_recall']), np.mean(resNB2['test_precision'])))"
   ]
  },
  {
   "cell_type": "code",
   "execution_count": null,
   "id": "f7589274-060f-477f-9138-92c15f5f3c67",
   "metadata": {},
   "outputs": [],
   "source": []
  }
 ],
 "metadata": {
  "kernelspec": {
   "display_name": "Python 3",
   "language": "python",
   "name": "python3"
  },
  "language_info": {
   "codemirror_mode": {
    "name": "ipython",
    "version": 3
   },
   "file_extension": ".py",
   "mimetype": "text/x-python",
   "name": "python",
   "nbconvert_exporter": "python",
   "pygments_lexer": "ipython3",
   "version": "3.8.8"
  }
 },
 "nbformat": 4,
 "nbformat_minor": 5
}
